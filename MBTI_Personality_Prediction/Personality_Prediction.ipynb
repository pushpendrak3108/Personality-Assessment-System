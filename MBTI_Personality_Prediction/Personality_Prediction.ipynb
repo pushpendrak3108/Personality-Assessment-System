{
 "cells": [
  {
   "cell_type": "code",
   "execution_count": 1,
   "id": "929b383b",
   "metadata": {},
   "outputs": [],
   "source": [
    "# Importing al libraries\n",
    "import pandas as pd\n",
    "import numpy as np\n",
    "from numpy import asarray\n",
    "from numpy import savetxt\n",
    "from numpy import loadtxt\n",
    "import pickle as pkl\n",
    "from scipy import sparse"
   ]
  },
  {
   "cell_type": "code",
   "execution_count": 2,
   "id": "086a21c1",
   "metadata": {},
   "outputs": [],
   "source": [
    "# Data Visualization\n",
    "import seaborn as sns\n",
    "import matplotlib.pyplot as plt\n",
    "import wordcloud\n",
    "from wordcloud import WordCloud, STOPWORDS"
   ]
  },
  {
   "cell_type": "code",
   "execution_count": 3,
   "id": "5629aa64",
   "metadata": {},
   "outputs": [],
   "source": [
    "# Text Processing\n",
    "import re\n",
    "import itertools\n",
    "import string\n",
    "import collections\n",
    "from collections import Counter\n",
    "from sklearn.preprocessing import LabelEncoder\n",
    "import nltk\n",
    "from nltk.classify import NaiveBayesClassifier\n",
    "from nltk.corpus import stopwords\n",
    "from nltk import word_tokenize\n",
    "from nltk.tokenize import word_tokenize\n",
    "from nltk.stem import PorterStemmer, WordNetLemmatizer\n",
    "\n",
    "# Machine Learning packages\n",
    "import sklearn\n",
    "from sklearn.feature_extraction.text import CountVectorizer\n",
    "from sklearn.feature_extraction.text import TfidfVectorizer\n",
    "from sklearn.feature_extraction.text import TfidfTransformer\n",
    "import sklearn.cluster as cluster\n",
    "from sklearn.manifold import TSNE\n",
    "\n",
    "# Model training and evaluation\n",
    "from sklearn.model_selection import train_test_split\n",
    "\n",
    "#Models\n",
    "from sklearn.linear_model import LogisticRegression\n",
    "from sklearn.linear_model import SGDClassifier\n",
    "from sklearn.neighbors import KNeighborsClassifier\n",
    "from sklearn.naive_bayes import GaussianNB\n",
    "from sklearn.svm import SVC\n",
    "from sklearn.ensemble import RandomForestClassifier, GradientBoostingClassifier\n",
    "\n",
    "#Metrics\n",
    "from sklearn.metrics import r2_score, mean_squared_error, mean_absolute_error, accuracy_score, balanced_accuracy_score\n",
    "from sklearn.metrics import precision_score, recall_score, f1_score, multilabel_confusion_matrix, confusion_matrix\n",
    "from sklearn.metrics import classification_report\n",
    "\n",
    "# Ignore noise warning\n",
    "import warnings\n",
    "warnings.filterwarnings(\"ignore\")"
   ]
  },
  {
   "cell_type": "code",
   "execution_count": 4,
   "id": "1605d3ca",
   "metadata": {},
   "outputs": [],
   "source": [
    "import nltk\n",
    "from nltk.corpus import stopwords"
   ]
  },
  {
   "cell_type": "code",
   "execution_count": 18,
   "id": "d899f4c7",
   "metadata": {},
   "outputs": [],
   "source": [
    "#load the dataset into dataframe\n",
    "mbti_df = pd.read_csv(\"dataset/mbti_1.csv\")"
   ]
  },
  {
   "cell_type": "code",
   "execution_count": 19,
   "id": "a4e534a1",
   "metadata": {
    "scrolled": true
   },
   "outputs": [
    {
     "data": {
      "text/html": [
       "<div>\n",
       "<style scoped>\n",
       "    .dataframe tbody tr th:only-of-type {\n",
       "        vertical-align: middle;\n",
       "    }\n",
       "\n",
       "    .dataframe tbody tr th {\n",
       "        vertical-align: top;\n",
       "    }\n",
       "\n",
       "    .dataframe thead th {\n",
       "        text-align: right;\n",
       "    }\n",
       "</style>\n",
       "<table border=\"1\" class=\"dataframe\">\n",
       "  <thead>\n",
       "    <tr style=\"text-align: right;\">\n",
       "      <th></th>\n",
       "      <th>type</th>\n",
       "      <th>posts</th>\n",
       "    </tr>\n",
       "  </thead>\n",
       "  <tbody>\n",
       "    <tr>\n",
       "      <th>0</th>\n",
       "      <td>INFJ</td>\n",
       "      <td>'http://www.youtube.com/watch?v=qsXHcwe3krw|||...</td>\n",
       "    </tr>\n",
       "    <tr>\n",
       "      <th>1</th>\n",
       "      <td>ENTP</td>\n",
       "      <td>'I'm finding the lack of me in these posts ver...</td>\n",
       "    </tr>\n",
       "    <tr>\n",
       "      <th>2</th>\n",
       "      <td>INTP</td>\n",
       "      <td>'Good one  _____   https://www.youtube.com/wat...</td>\n",
       "    </tr>\n",
       "    <tr>\n",
       "      <th>3</th>\n",
       "      <td>INTJ</td>\n",
       "      <td>'Dear INTP,   I enjoyed our conversation the o...</td>\n",
       "    </tr>\n",
       "    <tr>\n",
       "      <th>4</th>\n",
       "      <td>ENTJ</td>\n",
       "      <td>'You're fired.|||That's another silly misconce...</td>\n",
       "    </tr>\n",
       "  </tbody>\n",
       "</table>\n",
       "</div>"
      ],
      "text/plain": [
       "   type                                              posts\n",
       "0  INFJ  'http://www.youtube.com/watch?v=qsXHcwe3krw|||...\n",
       "1  ENTP  'I'm finding the lack of me in these posts ver...\n",
       "2  INTP  'Good one  _____   https://www.youtube.com/wat...\n",
       "3  INTJ  'Dear INTP,   I enjoyed our conversation the o...\n",
       "4  ENTJ  'You're fired.|||That's another silly misconce..."
      ]
     },
     "execution_count": 19,
     "metadata": {},
     "output_type": "execute_result"
    }
   ],
   "source": [
    "#First 5 rows of dataset is as follows\n",
    "mbti_df.head()"
   ]
  },
  {
   "cell_type": "code",
   "execution_count": 11,
   "id": "d6b34a38",
   "metadata": {},
   "outputs": [
    {
     "data": {
      "text/plain": [
       "(8675, 6)"
      ]
     },
     "execution_count": 11,
     "metadata": {},
     "output_type": "execute_result"
    }
   ],
   "source": [
    "mbti_df.shape"
   ]
  },
  {
   "cell_type": "code",
   "execution_count": 22,
   "id": "cd8f99d3",
   "metadata": {},
   "outputs": [
    {
     "name": "stdout",
     "output_type": "stream",
     "text": [
      "<class 'pandas.core.frame.DataFrame'>\n",
      "Int64Index: 8664 entries, 0 to 8674\n",
      "Data columns (total 6 columns):\n",
      " #   Column  Non-Null Count  Dtype \n",
      "---  ------  --------------  ----- \n",
      " 0   type    8664 non-null   object\n",
      " 1   posts   8664 non-null   object\n",
      " 2   I/E     8664 non-null   object\n",
      " 3   N/S     8664 non-null   object\n",
      " 4   F/T     8664 non-null   object\n",
      " 5   P/J     8664 non-null   object\n",
      "dtypes: object(6)\n",
      "memory usage: 473.8+ KB\n"
     ]
    }
   ],
   "source": [
    "mbti_df.info()"
   ]
  },
  {
   "cell_type": "code",
   "execution_count": 9,
   "id": "fad259dc",
   "metadata": {},
   "outputs": [
    {
     "data": {
      "text/html": [
       "<div>\n",
       "<style scoped>\n",
       "    .dataframe tbody tr th:only-of-type {\n",
       "        vertical-align: middle;\n",
       "    }\n",
       "\n",
       "    .dataframe tbody tr th {\n",
       "        vertical-align: top;\n",
       "    }\n",
       "\n",
       "    .dataframe thead th {\n",
       "        text-align: right;\n",
       "    }\n",
       "</style>\n",
       "<table border=\"1\" class=\"dataframe\">\n",
       "  <thead>\n",
       "    <tr style=\"text-align: right;\">\n",
       "      <th></th>\n",
       "      <th>type</th>\n",
       "      <th>posts</th>\n",
       "    </tr>\n",
       "  </thead>\n",
       "  <tbody>\n",
       "    <tr>\n",
       "      <th>count</th>\n",
       "      <td>8675</td>\n",
       "      <td>8675</td>\n",
       "    </tr>\n",
       "    <tr>\n",
       "      <th>unique</th>\n",
       "      <td>16</td>\n",
       "      <td>8675</td>\n",
       "    </tr>\n",
       "    <tr>\n",
       "      <th>top</th>\n",
       "      <td>INFP</td>\n",
       "      <td>'If I met myself my immediate reaction would b...</td>\n",
       "    </tr>\n",
       "    <tr>\n",
       "      <th>freq</th>\n",
       "      <td>1832</td>\n",
       "      <td>1</td>\n",
       "    </tr>\n",
       "  </tbody>\n",
       "</table>\n",
       "</div>"
      ],
      "text/plain": [
       "        type                                              posts\n",
       "count   8675                                               8675\n",
       "unique    16                                               8675\n",
       "top     INFP  'If I met myself my immediate reaction would b...\n",
       "freq    1832                                                  1"
      ]
     },
     "execution_count": 9,
     "metadata": {},
     "output_type": "execute_result"
    }
   ],
   "source": [
    "mbti_df.describe()"
   ]
  },
  {
   "cell_type": "code",
   "execution_count": 21,
   "id": "241b3d5a",
   "metadata": {
    "scrolled": true
   },
   "outputs": [
    {
     "name": "stdout",
     "output_type": "stream",
     "text": [
      "Null Values: \n",
      "\n",
      "type     0\n",
      "posts    0\n",
      "I/E      0\n",
      "N/S      0\n",
      "F/T      0\n",
      "P/J      0\n",
      "dtype: int64\n",
      "\n",
      "\n",
      "No of posts for each mbti Personality: \n",
      "\n",
      "INFP    1828\n",
      "INFJ    1470\n",
      "INTP    1304\n",
      "INTJ    1091\n",
      "ENTP     683\n",
      "ENFP     673\n",
      "ISTP     337\n",
      "ISFP     269\n",
      "ENTJ     230\n",
      "ISTJ     205\n",
      "ENFJ     190\n",
      "ISFJ     166\n",
      "ESTP      89\n",
      "ESFP      48\n",
      "ESFJ      42\n",
      "ESTJ      39\n",
      "Name: type, dtype: int64\n"
     ]
    }
   ],
   "source": [
    "#Check for null values\n",
    "print(\"Null Values: \\n\")\n",
    "print(mbti_df.isnull().sum())\n",
    "\n",
    "#Plotting frequency of different categories\n",
    "countCategory=mbti_df.type.value_counts()\n",
    "print('\\n')\n",
    "\n",
    "print(\"No of posts for each mbti Personality: \\n\")\n",
    "print(countCategory)"
   ]
  },
  {
   "cell_type": "code",
   "execution_count": 20,
   "id": "91a2fc7f",
   "metadata": {
    "scrolled": true
   },
   "outputs": [],
   "source": [
    "mbti_df = mbti_df.dropna()"
   ]
  },
  {
   "cell_type": "code",
   "execution_count": 11,
   "id": "678d1261",
   "metadata": {},
   "outputs": [
    {
     "data": {
      "image/png": "[encoded data removed]",
      "text/plain": [
       "<Figure size 1296x720 with 1 Axes>"
      ]
     },
     "metadata": {
      "needs_background": "light"
     },
     "output_type": "display_data"
    }
   ],
   "source": [
    "#Plot to show above inference\n",
    "plt.figure(figsize=(18,10))\n",
    "sns.countplot(x='type', data=mbti_df, order=mbti_df.type.value_counts().index, orient='v')\n",
    "sns.set_context('talk')\n",
    "plt.title('Personality types distribution', fontsize=25)\n",
    "plt.savefig('mbti_count.png')\n",
    "plt.show()"
   ]
  },
  {
   "cell_type": "code",
   "execution_count": 12,
   "id": "1982e1c8",
   "metadata": {},
   "outputs": [
    {
     "data": {
      "image/png": "[encoded data removed]",
      "text/plain": [
       "<Figure size 720x720 with 1 Axes>"
      ]
     },
     "metadata": {},
     "output_type": "display_data"
    }
   ],
   "source": [
    "plt.figure(figsize=(10, 10))\n",
    "plt.pie(mbti_df.type.value_counts(),labels=mbti_df['type'].unique(), autopct='%1.0f%%', pctdistance=1.1, labeldistance=1.2,shadow=True)\n",
    "plt.axis('equal')\n",
    "plt.show()"
   ]
  },
  {
   "cell_type": "code",
   "execution_count": 22,
   "id": "9315786b",
   "metadata": {},
   "outputs": [],
   "source": [
    "#Data PreProcessing\n",
    "#Removing URLs\n",
    "mbti_df['posts'] = mbti_df['posts'].apply(lambda x: re.sub(r'https?:\\/\\/.*?[\\s+]', '', x.replace(\"|\",\" \") + \" \"))"
   ]
  },
  {
   "cell_type": "code",
   "execution_count": 23,
   "id": "ba179cb0",
   "metadata": {},
   "outputs": [],
   "source": [
    "#Removing End Tokens like '?', ',' '.'\n",
    "mbti_df[\"posts\"] = mbti_df[\"posts\"].apply(lambda x: re.sub(r'\\.', ' ', x + \" \"))\n",
    "mbti_df[\"posts\"] = mbti_df[\"posts\"].apply(lambda x: re.sub(r'\\?', ' ', x + \" \"))\n",
    "mbti_df[\"posts\"] = mbti_df[\"posts\"].apply(lambda x: re.sub(r'!', ' ', x + \" \"))"
   ]
  },
  {
   "cell_type": "code",
   "execution_count": 24,
   "id": "83108e10",
   "metadata": {},
   "outputs": [],
   "source": [
    "#Remove words that contain digits\n",
    "mbti_df['posts'] = mbti_df['posts'].apply(lambda x: re.sub(r'[^a-zA-Z\\s]','',x))\n",
    "#Lower casing words\n",
    "mbti_df['posts'] = mbti_df['posts'].apply(lambda x: x.lower())"
   ]
  },
  {
   "cell_type": "code",
   "execution_count": 25,
   "id": "bb5ce1e9",
   "metadata": {},
   "outputs": [],
   "source": [
    "#Removing multiple letters repeating words\n",
    "mbti_df[\"posts\"] = mbti_df[\"posts\"].apply(lambda x: re.sub(r'([a-z])\\1{2,}[\\s|\\w]*','',x))"
   ]
  },
  {
   "cell_type": "code",
   "execution_count": 26,
   "id": "715e8ba4",
   "metadata": {},
   "outputs": [],
   "source": [
    "#Remove parenthesis\n",
    "mbti_df[\"posts\"] = mbti_df[\"posts\"].apply(lambda x: re.sub('(\\[|\\()*\\d+(\\]|\\))*', ' ', x))\n",
    "#Remove spaces more than 1\n",
    "mbti_df[\"posts\"] = mbti_df[\"posts\"].apply(lambda x: re.sub(' +', ' ', x).lower())"
   ]
  },
  {
   "cell_type": "code",
   "execution_count": 27,
   "id": "d119cfb5",
   "metadata": {},
   "outputs": [],
   "source": [
    "# Lemmatization\n",
    "mbti_df['posts'] = mbti_df['posts'].apply(lambda x: WordNetLemmatizer().lemmatize(x))"
   ]
  },
  {
   "cell_type": "code",
   "execution_count": 28,
   "id": "344ccd12",
   "metadata": {
    "scrolled": true
   },
   "outputs": [
    {
     "data": {
      "text/html": [
       "<div>\n",
       "<style scoped>\n",
       "    .dataframe tbody tr th:only-of-type {\n",
       "        vertical-align: middle;\n",
       "    }\n",
       "\n",
       "    .dataframe tbody tr th {\n",
       "        vertical-align: top;\n",
       "    }\n",
       "\n",
       "    .dataframe thead th {\n",
       "        text-align: right;\n",
       "    }\n",
       "</style>\n",
       "<table border=\"1\" class=\"dataframe\">\n",
       "  <thead>\n",
       "    <tr style=\"text-align: right;\">\n",
       "      <th></th>\n",
       "      <th>type</th>\n",
       "      <th>posts</th>\n",
       "    </tr>\n",
       "  </thead>\n",
       "  <tbody>\n",
       "    <tr>\n",
       "      <th>0</th>\n",
       "      <td>INFJ</td>\n",
       "      <td>enfp and intj moments sportscenter not top te...</td>\n",
       "    </tr>\n",
       "    <tr>\n",
       "      <th>1</th>\n",
       "      <td>ENTP</td>\n",
       "      <td>im finding the lack of me in these posts very ...</td>\n",
       "    </tr>\n",
       "    <tr>\n",
       "      <th>2</th>\n",
       "      <td>INTP</td>\n",
       "      <td>good one of course to which i say i know thats...</td>\n",
       "    </tr>\n",
       "    <tr>\n",
       "      <th>3</th>\n",
       "      <td>INTJ</td>\n",
       "      <td>dear intp i enjoyed our conversation the other...</td>\n",
       "    </tr>\n",
       "    <tr>\n",
       "      <th>4</th>\n",
       "      <td>ENTJ</td>\n",
       "      <td>youre fired thats another silly misconception ...</td>\n",
       "    </tr>\n",
       "  </tbody>\n",
       "</table>\n",
       "</div>"
      ],
      "text/plain": [
       "   type                                              posts\n",
       "0  INFJ   enfp and intj moments sportscenter not top te...\n",
       "1  ENTP  im finding the lack of me in these posts very ...\n",
       "2  INTP  good one of course to which i say i know thats...\n",
       "3  INTJ  dear intp i enjoyed our conversation the other...\n",
       "4  ENTJ  youre fired thats another silly misconception ..."
      ]
     },
     "execution_count": 28,
     "metadata": {},
     "output_type": "execute_result"
    }
   ],
   "source": [
    "mbti_df.head()"
   ]
  },
  {
   "cell_type": "code",
   "execution_count": 23,
   "id": "74d05310",
   "metadata": {},
   "outputs": [],
   "source": [
    "mbti_df.to_csv('mbti_1_preprocessed.csv',index=False)"
   ]
  },
  {
   "cell_type": "code",
   "execution_count": 21,
   "id": "4d80c8b5",
   "metadata": {},
   "outputs": [],
   "source": [
    "from sklearn import preprocessing\n",
    "label_encoder = preprocessing.LabelEncoder()\n",
    "Y= label_encoder.fit_transform(mbti_df['type'])"
   ]
  },
  {
   "cell_type": "code",
   "execution_count": 32,
   "id": "37fb290b",
   "metadata": {},
   "outputs": [
    {
     "name": "stdout",
     "output_type": "stream",
     "text": [
      "(5812,) (5812,) (2863,) (2863,)\n"
     ]
    }
   ],
   "source": [
    "#Splitting the dataset into 70-30 % ratio\n",
    "X_train, X_test, y_train, y_test = train_test_split(mbti_df['posts'], Y, test_size=0.33, stratify=Y, random_state=42)\n",
    "print ((X_train.shape),(y_train.shape),(X_test.shape),(y_test.shape))"
   ]
  },
  {
   "cell_type": "code",
   "execution_count": 33,
   "id": "b6f2e516",
   "metadata": {},
   "outputs": [],
   "source": [
    "#Implementing TF-IDF\n",
    "#Vectorizing posts along with filtering stop words\n",
    "vectorizer = TfidfVectorizer(stop_words='english')\n",
    "\n",
    "#Fitting on training dataset\n",
    "mbti_tfidf = vectorizer.fit(X_train)\n",
    "\n",
    "#Performing transformation on train and test set\n",
    "X_train_tfidf = mbti_tfidf.transform(X_train)\n",
    "X_test_tfidf = mbti_tfidf.transform(X_test)"
   ]
  },
  {
   "cell_type": "code",
   "execution_count": 25,
   "id": "64ef77bb",
   "metadata": {},
   "outputs": [
    {
     "data": {
      "text/plain": [
       "(5812, 81787)"
      ]
     },
     "execution_count": 25,
     "metadata": {},
     "output_type": "execute_result"
    }
   ],
   "source": [
    "X_train_tfidf.shape"
   ]
  },
  {
   "cell_type": "code",
   "execution_count": 26,
   "id": "51793b5d",
   "metadata": {},
   "outputs": [
    {
     "data": {
      "text/plain": [
       "(2863, 81787)"
      ]
     },
     "execution_count": 26,
     "metadata": {},
     "output_type": "execute_result"
    }
   ],
   "source": [
    "X_test_tfidf.shape"
   ]
  },
  {
   "cell_type": "code",
   "execution_count": 27,
   "id": "9c6ccc1f",
   "metadata": {},
   "outputs": [
    {
     "data": {
      "text/plain": [
       "SVC(random_state=1)"
      ]
     },
     "execution_count": 27,
     "metadata": {},
     "output_type": "execute_result"
    }
   ],
   "source": [
    "#Implementing Models\n",
    "\n",
    "#Support Vector Machine\n",
    "basef1_tfidf = {}\n",
    "\n",
    "svm = SVC(random_state = 1)\n",
    "svm.fit(X_train_tfidf, y_train)"
   ]
  },
  {
   "cell_type": "code",
   "execution_count": 28,
   "id": "cf9d83d3",
   "metadata": {},
   "outputs": [
    {
     "name": "stdout",
     "output_type": "stream",
     "text": [
      "              precision    recall  f1-score   support\n",
      "\n",
      "           0       0.00      0.00      0.00        63\n",
      "           1       0.63      0.24      0.35       223\n",
      "           2       1.00      0.01      0.03        76\n",
      "           3       0.60      0.28      0.38       226\n",
      "           4       0.00      0.00      0.00        14\n",
      "           5       0.00      0.00      0.00        16\n",
      "           6       0.00      0.00      0.00        13\n",
      "           7       0.00      0.00      0.00        29\n",
      "           8       0.60      0.55      0.57       485\n",
      "           9       0.41      0.89      0.56       605\n",
      "          10       0.65      0.50      0.56       360\n",
      "          11       0.53      0.74      0.62       430\n",
      "          12       0.50      0.02      0.04        55\n",
      "          13       0.50      0.02      0.04        89\n",
      "          14       0.50      0.01      0.03        68\n",
      "          15       0.77      0.18      0.29       111\n",
      "\n",
      "    accuracy                           0.50      2863\n",
      "   macro avg       0.42      0.22      0.22      2863\n",
      "weighted avg       0.54      0.50      0.45      2863\n",
      "\n"
     ]
    }
   ],
   "source": [
    "Y_pred = svm.predict(X_test_tfidf)\n",
    "\n",
    "# find predictions\n",
    "print(classification_report(y_test,Y_pred))\n",
    "score = f1_score(y_test, Y_pred, average='micro')\n",
    "basef1_tfidf['SVM'] = score* 100.0\n"
   ]
  },
  {
   "cell_type": "code",
   "execution_count": 29,
   "id": "f6ec8051",
   "metadata": {},
   "outputs": [
    {
     "name": "stdout",
     "output_type": "stream",
     "text": [
      "              precision    recall  f1-score   support\n",
      "\n",
      "           0       0.00      0.00      0.00        63\n",
      "           1       0.53      0.08      0.14       223\n",
      "           2       0.00      0.00      0.00        76\n",
      "           3       0.53      0.07      0.12       226\n",
      "           4       0.00      0.00      0.00        14\n",
      "           5       0.00      0.00      0.00        16\n",
      "           6       0.00      0.00      0.00        13\n",
      "           7       0.00      0.00      0.00        29\n",
      "           8       0.42      0.52      0.47       485\n",
      "           9       0.33      0.86      0.48       605\n",
      "          10       0.55      0.30      0.39       360\n",
      "          11       0.53      0.55      0.54       430\n",
      "          12       0.00      0.00      0.00        55\n",
      "          13       0.00      0.00      0.00        89\n",
      "          14       0.00      0.00      0.00        68\n",
      "          15       0.00      0.00      0.00       111\n",
      "\n",
      "    accuracy                           0.40      2863\n",
      "   macro avg       0.18      0.15      0.13      2863\n",
      "weighted avg       0.37      0.40      0.33      2863\n",
      "\n"
     ]
    }
   ],
   "source": [
    "#Random Forest \n",
    "random_forest = RandomForestClassifier(n_estimators=100, random_state = 1)\n",
    "random_forest.fit(X_train_tfidf, y_train)\n",
    "\n",
    "# make predictions for test data#KNN Classifier for TF-IDF\n",
    "from sklearn.neighbors import KNeighborsClassifier\n",
    "knn = KNeighborsClassifier(n_neighbors = 200)  # n_neighbors means k\n",
    "knn.fit(X_train_tfidf, y_train)\n",
    "\n",
    "Y_pred = knn.predict(X_test_tfidf)\n",
    "# evaluate predictions\n",
    "print(classification_report(y_test,Y_pred))\n",
    "score = f1_score(y_test, Y_pred, average='micro')\n",
    "Newf1_tfidf['KNN'] = score* 100.0\n",
    "Y_pred = random_forest.predict(X_test_tfidf)\n",
    "\n",
    "# evaluate predictions\n",
    "print(classification_report(y_test,Y_pred))\n",
    "score = f1_score(y_test, Y_pred, average='micro')\n",
    "basef1_tfidf['Random Forest'] = score* 100.0"
   ]
  },
  {
   "cell_type": "code",
   "execution_count": 31,
   "id": "033166c3",
   "metadata": {
    "scrolled": true
   },
   "outputs": [
    {
     "name": "stdout",
     "output_type": "stream",
     "text": [
      "              precision    recall  f1-score   support\n",
      "\n",
      "           0       0.00      0.00      0.00        63\n",
      "           1       0.50      0.01      0.02       223\n",
      "           2       0.00      0.00      0.00        76\n",
      "           3       1.00      0.00      0.01       226\n",
      "           4       0.00      0.00      0.00        14\n",
      "           5       0.00      0.00      0.00        16\n",
      "           6       0.00      0.00      0.00        13\n",
      "           7       0.00      0.00      0.00        29\n",
      "           8       0.18      0.91      0.30       485\n",
      "           9       0.36      0.19      0.24       605\n",
      "          10       0.29      0.01      0.01       360\n",
      "          11       0.34      0.03      0.06       430\n",
      "          12       0.00      0.00      0.00        55\n",
      "          13       0.00      0.00      0.00        89\n",
      "          14       0.00      0.00      0.00        68\n",
      "          15       1.00      0.01      0.02       111\n",
      "\n",
      "    accuracy                           0.20      2863\n",
      "   macro avg       0.23      0.07      0.04      2863\n",
      "weighted avg       0.35      0.20      0.11      2863\n",
      "\n"
     ]
    }
   ],
   "source": [
    "#KNN Classifier\n",
    "knn = KNeighborsClassifier(n_neighbors = 200)  # n_neighbors means k\n",
    "knn.fit(X_train_tfidf, y_train)\n",
    "\n",
    "Y_pred = knn.predict(X_test_tfidf)\n",
    "# evaluate predictions\n",
    "print(classification_report(y_test,Y_pred))\n",
    "score = f1_score(y_test, Y_pred, average='micro')\n",
    "basef1_tfidf['KNN'] = score* 100.0"
   ]
  },
  {
   "cell_type": "code",
   "execution_count": 32,
   "id": "ef4028a4",
   "metadata": {},
   "outputs": [
    {
     "data": {
      "text/html": [
       "<div>\n",
       "<style scoped>\n",
       "    .dataframe tbody tr th:only-of-type {\n",
       "        vertical-align: middle;\n",
       "    }\n",
       "\n",
       "    .dataframe tbody tr th {\n",
       "        vertical-align: top;\n",
       "    }\n",
       "\n",
       "    .dataframe thead th {\n",
       "        text-align: right;\n",
       "    }\n",
       "</style>\n",
       "<table border=\"1\" class=\"dataframe\">\n",
       "  <thead>\n",
       "    <tr style=\"text-align: right;\">\n",
       "      <th></th>\n",
       "      <th>F1-Score Achieved</th>\n",
       "    </tr>\n",
       "  </thead>\n",
       "  <tbody>\n",
       "    <tr>\n",
       "      <th>SVM</th>\n",
       "      <td>50.471533</td>\n",
       "    </tr>\n",
       "    <tr>\n",
       "      <th>Random Forest</th>\n",
       "      <td>40.202585</td>\n",
       "    </tr>\n",
       "    <tr>\n",
       "      <th>KNN</th>\n",
       "      <td>20.048900</td>\n",
       "    </tr>\n",
       "  </tbody>\n",
       "</table>\n",
       "</div>"
      ],
      "text/plain": [
       "               F1-Score Achieved\n",
       "SVM                    50.471533\n",
       "Random Forest          40.202585\n",
       "KNN                    20.048900"
      ]
     },
     "execution_count": 32,
     "metadata": {},
     "output_type": "execute_result"
    }
   ],
   "source": [
    "#Analysis of Baseline Models\n",
    "pd.DataFrame.from_dict(basef1_tfidf, orient='index', columns=['F1-Score Achieved'])"
   ]
  },
  {
   "cell_type": "code",
   "execution_count": 33,
   "id": "1e6e6aaa",
   "metadata": {},
   "outputs": [],
   "source": [
    "#MBTI across 4 axis\n",
    "#All the ML models that I have applied have given F1 score of around 0.5 which is not good.\n",
    "#So instead of training model on all 16 types of personalities, I'll now try to train models on 4 classifiers individually for better predictions.\n",
    "\n",
    "#16 Personality types across 4 axis :\n",
    "#Introversion (I) – Extroversion (E)\n",
    "#Intuition (N) – Sensing (S)\n",
    "#Thinking (T) – Feeling (F)\n",
    "#Judging (J) – Perceiving (P)"
   ]
  },
  {
   "cell_type": "code",
   "execution_count": 7,
   "id": "87a27f62",
   "metadata": {},
   "outputs": [],
   "source": [
    "mbti_df['I/E'] = mbti_df.type\n",
    "mbti_df['N/S'] = mbti_df.type\n",
    "mbti_df['F/T'] = mbti_df.type\n",
    "mbti_df['P/J'] = mbti_df.type\n",
    "\n",
    "for i, t in enumerate(mbti_df.type):\n",
    "    if 'I' in t:\n",
    "        mbti_df['I/E'][i] = 'I'\n",
    "    elif 'E' in t:\n",
    "        mbti_df['I/E'][i] = 'E'\n",
    "        \n",
    "    if 'N' in t:\n",
    "        mbti_df['N/S'][i] = 'N'\n",
    "    elif 'S' in t:\n",
    "        mbti_df['N/S'][i] = 'S'\n",
    "        \n",
    "    if 'F' in t:\n",
    "        mbti_df['F/T'][i] = 'F'\n",
    "    elif 'T' in t:\n",
    "        mbti_df['F/T'][i] = 'T'\n",
    "        \n",
    "    if 'P' in t:\n",
    "        mbti_df['P/J'][i] = 'P'\n",
    "    elif 'J' in t:\n",
    "        mbti_df['P/J'][i] = 'J'\n",
    "\n",
    "\n",
    "posts = mbti_df.posts.values\n",
    "yIE = mbti_df['I/E'].values\n",
    "yNS = mbti_df['N/S'].values\n",
    "yFT = mbti_df['F/T'].values\n",
    "yPJ = mbti_df['P/J'].values\n",
    "y = mbti_df.type"
   ]
  },
  {
   "cell_type": "code",
   "execution_count": 35,
   "id": "3a7df010",
   "metadata": {
    "scrolled": true
   },
   "outputs": [
    {
     "data": {
      "text/html": [
       "<div>\n",
       "<style scoped>\n",
       "    .dataframe tbody tr th:only-of-type {\n",
       "        vertical-align: middle;\n",
       "    }\n",
       "\n",
       "    .dataframe tbody tr th {\n",
       "        vertical-align: top;\n",
       "    }\n",
       "\n",
       "    .dataframe thead th {\n",
       "        text-align: right;\n",
       "    }\n",
       "</style>\n",
       "<table border=\"1\" class=\"dataframe\">\n",
       "  <thead>\n",
       "    <tr style=\"text-align: right;\">\n",
       "      <th></th>\n",
       "      <th>type</th>\n",
       "      <th>posts</th>\n",
       "      <th>I/E</th>\n",
       "      <th>N/S</th>\n",
       "      <th>F/T</th>\n",
       "      <th>P/J</th>\n",
       "    </tr>\n",
       "  </thead>\n",
       "  <tbody>\n",
       "    <tr>\n",
       "      <th>0</th>\n",
       "      <td>INFJ</td>\n",
       "      <td>enfp and intj moments sportscenter not top te...</td>\n",
       "      <td>I</td>\n",
       "      <td>N</td>\n",
       "      <td>F</td>\n",
       "      <td>J</td>\n",
       "    </tr>\n",
       "    <tr>\n",
       "      <th>1</th>\n",
       "      <td>ENTP</td>\n",
       "      <td>im finding the lack of me in these posts very ...</td>\n",
       "      <td>E</td>\n",
       "      <td>N</td>\n",
       "      <td>T</td>\n",
       "      <td>P</td>\n",
       "    </tr>\n",
       "    <tr>\n",
       "      <th>2</th>\n",
       "      <td>INTP</td>\n",
       "      <td>good one of course to which i say i know thats...</td>\n",
       "      <td>I</td>\n",
       "      <td>N</td>\n",
       "      <td>T</td>\n",
       "      <td>P</td>\n",
       "    </tr>\n",
       "    <tr>\n",
       "      <th>3</th>\n",
       "      <td>INTJ</td>\n",
       "      <td>dear intp i enjoyed our conversation the other...</td>\n",
       "      <td>I</td>\n",
       "      <td>N</td>\n",
       "      <td>T</td>\n",
       "      <td>J</td>\n",
       "    </tr>\n",
       "    <tr>\n",
       "      <th>4</th>\n",
       "      <td>ENTJ</td>\n",
       "      <td>youre fired eostokendot thats another silly mi...</td>\n",
       "      <td>E</td>\n",
       "      <td>N</td>\n",
       "      <td>T</td>\n",
       "      <td>J</td>\n",
       "    </tr>\n",
       "  </tbody>\n",
       "</table>\n",
       "</div>"
      ],
      "text/plain": [
       "   type                                              posts I/E N/S F/T P/J\n",
       "0  INFJ   enfp and intj moments sportscenter not top te...   I   N   F   J\n",
       "1  ENTP  im finding the lack of me in these posts very ...   E   N   T   P\n",
       "2  INTP  good one of course to which i say i know thats...   I   N   T   P\n",
       "3  INTJ  dear intp i enjoyed our conversation the other...   I   N   T   J\n",
       "4  ENTJ  youre fired eostokendot thats another silly mi...   E   N   T   J"
      ]
     },
     "execution_count": 35,
     "metadata": {},
     "output_type": "execute_result"
    }
   ],
   "source": [
    "mbti_df.head()"
   ]
  },
  {
   "cell_type": "code",
   "execution_count": 36,
   "id": "29556800",
   "metadata": {
    "scrolled": true
   },
   "outputs": [
    {
     "name": "stdout",
     "output_type": "stream",
     "text": [
      "Frequency :\n",
      "-------------------------------------------------------\n",
      "Introversion (I) /  Extroversion (E):    6676  /  1999\n",
      "Intuition (N) / Sensing (S):             7478  /  1197\n",
      "Thinking (T) / Feeling (F):              4694  /  3981\n",
      "Judging (J) / Perceiving (P):            5241  /  3434\n"
     ]
    }
   ],
   "source": [
    "print(\"Frequency :\")\n",
    "print(\"-------------------------------------------------------\")\n",
    "print (\"Introversion (I) /  Extroversion (E):   \", mbti_df['I/E'].value_counts()['I'], \" / \", mbti_df['I/E'].value_counts()['E'])\n",
    "print (\"Intuition (N) / Sensing (S):            \", mbti_df['N/S'].value_counts()['N'], \" / \", mbti_df['N/S'].value_counts()['S'])\n",
    "print (\"Thinking (T) / Feeling (F):             \", mbti_df['F/T'].value_counts()['F'], \" / \", mbti_df['F/T'].value_counts()['T'])\n",
    "print (\"Judging (J) / Perceiving (P):           \", mbti_df['P/J'].value_counts()['P'], \" / \", mbti_df['P/J'].value_counts()['J'])"
   ]
  },
  {
   "cell_type": "code",
   "execution_count": 25,
   "id": "a8720f01",
   "metadata": {},
   "outputs": [],
   "source": [
    "mbti_df = pd.read_csv(\"dataset/mbti_1_preprocessed.csv\")"
   ]
  },
  {
   "cell_type": "code",
   "execution_count": 26,
   "id": "87db3728",
   "metadata": {},
   "outputs": [
    {
     "data": {
      "text/html": [
       "<div>\n",
       "<style scoped>\n",
       "    .dataframe tbody tr th:only-of-type {\n",
       "        vertical-align: middle;\n",
       "    }\n",
       "\n",
       "    .dataframe tbody tr th {\n",
       "        vertical-align: top;\n",
       "    }\n",
       "\n",
       "    .dataframe thead th {\n",
       "        text-align: right;\n",
       "    }\n",
       "</style>\n",
       "<table border=\"1\" class=\"dataframe\">\n",
       "  <thead>\n",
       "    <tr style=\"text-align: right;\">\n",
       "      <th></th>\n",
       "      <th>type</th>\n",
       "      <th>posts</th>\n",
       "      <th>I/E</th>\n",
       "      <th>N/S</th>\n",
       "      <th>F/T</th>\n",
       "      <th>P/J</th>\n",
       "    </tr>\n",
       "  </thead>\n",
       "  <tbody>\n",
       "    <tr>\n",
       "      <th>0</th>\n",
       "      <td>INFJ</td>\n",
       "      <td>enfp and intj moments sportscenter not top te...</td>\n",
       "      <td>I</td>\n",
       "      <td>N</td>\n",
       "      <td>F</td>\n",
       "      <td>J</td>\n",
       "    </tr>\n",
       "    <tr>\n",
       "      <th>1</th>\n",
       "      <td>ENTP</td>\n",
       "      <td>im finding the lack of me in these posts very ...</td>\n",
       "      <td>E</td>\n",
       "      <td>N</td>\n",
       "      <td>T</td>\n",
       "      <td>P</td>\n",
       "    </tr>\n",
       "    <tr>\n",
       "      <th>2</th>\n",
       "      <td>INTP</td>\n",
       "      <td>good one of course to which i say i know thats...</td>\n",
       "      <td>I</td>\n",
       "      <td>N</td>\n",
       "      <td>T</td>\n",
       "      <td>P</td>\n",
       "    </tr>\n",
       "    <tr>\n",
       "      <th>3</th>\n",
       "      <td>INTJ</td>\n",
       "      <td>dear intp i enjoyed our conversation the other...</td>\n",
       "      <td>I</td>\n",
       "      <td>N</td>\n",
       "      <td>T</td>\n",
       "      <td>J</td>\n",
       "    </tr>\n",
       "    <tr>\n",
       "      <th>4</th>\n",
       "      <td>ENTJ</td>\n",
       "      <td>youre fired thats another silly misconception ...</td>\n",
       "      <td>E</td>\n",
       "      <td>N</td>\n",
       "      <td>T</td>\n",
       "      <td>J</td>\n",
       "    </tr>\n",
       "  </tbody>\n",
       "</table>\n",
       "</div>"
      ],
      "text/plain": [
       "   type                                              posts I/E N/S F/T P/J\n",
       "0  INFJ   enfp and intj moments sportscenter not top te...   I   N   F   J\n",
       "1  ENTP  im finding the lack of me in these posts very ...   E   N   T   P\n",
       "2  INTP  good one of course to which i say i know thats...   I   N   T   P\n",
       "3  INTJ  dear intp i enjoyed our conversation the other...   I   N   T   J\n",
       "4  ENTJ  youre fired thats another silly misconception ...   E   N   T   J"
      ]
     },
     "execution_count": 26,
     "metadata": {},
     "output_type": "execute_result"
    }
   ],
   "source": [
    "mbti_df.head()"
   ]
  },
  {
   "cell_type": "code",
   "execution_count": 27,
   "id": "843dddec",
   "metadata": {
    "scrolled": false
   },
   "outputs": [
    {
     "name": "stdout",
     "output_type": "stream",
     "text": [
      "Now the dataset size is as below\n",
      "(8664, 1500)\n"
     ]
    }
   ],
   "source": [
    "cv = CountVectorizer(stop_words='english', max_features=1500) \n",
    "xCV = cv.fit_transform(mbti_df['posts'])\n",
    "tfidf = TfidfTransformer()\n",
    "\n",
    "print(\"Now the dataset size is as below\")\n",
    "X_tfidf =  tfidf.fit_transform(xCV).toarray()\n",
    "print(X_tfidf.shape)"
   ]
  },
  {
   "cell_type": "code",
   "execution_count": 32,
   "id": "9be924ad",
   "metadata": {},
   "outputs": [],
   "source": [
    "pkl.dump(cv, open('count_vectorizer.pkl', 'wb'))"
   ]
  },
  {
   "cell_type": "code",
   "execution_count": 33,
   "id": "8ecdea5b",
   "metadata": {},
   "outputs": [],
   "source": [
    "pkl.dump(xCV, open('XCount_Vectorizer.pkl', 'wb'))\n",
    "pkl.dump(tfidf, open('TfidfTransformer.pkl', 'wb'))"
   ]
  },
  {
   "cell_type": "code",
   "execution_count": 7,
   "id": "eb6e3c77",
   "metadata": {},
   "outputs": [],
   "source": [
    "posts = mbti_df.posts.values\n",
    "yIE = mbti_df['I/E'].values\n",
    "yNS = mbti_df['N/S'].values\n",
    "yFT = mbti_df['F/T'].values\n",
    "yPJ = mbti_df['P/J'].values\n",
    "y = mbti_df.type"
   ]
  },
  {
   "cell_type": "code",
   "execution_count": 8,
   "id": "69435792",
   "metadata": {},
   "outputs": [],
   "source": [
    "#splitted the data with 75:25 train-test ratio.\n",
    "#For handling Imbalancement of data,stratify parameter is used\n",
    "\n",
    "xIETrain, xIETest, yIETrain, yIETest = train_test_split(X_tfidf, yIE, test_size=0.25,stratify=yIE)\n",
    "xNSTrain, xNSTest, yNSTrain, yNSTest = train_test_split(X_tfidf, yNS, test_size=0.25,stratify=yNS)\n",
    "xFTTrain, xFTTest, yFTTrain, yFTTest = train_test_split(X_tfidf, yFT, test_size=0.25,stratify=yFT)\n",
    "xPJTrain, xPJTest, yPJTrain, yPJTest = train_test_split(X_tfidf, yPJ, test_size=0.25,stratify=yPJ)"
   ]
  },
  {
   "cell_type": "code",
   "execution_count": 9,
   "id": "bfcb8e98",
   "metadata": {},
   "outputs": [],
   "source": [
    "#building models\n",
    "#SVM for TF-IDF\n",
    "\n",
    "svm1 = SVC(random_state = 1)\n",
    "svmIE= svm1.fit(xIETrain,yIETrain)\n",
    "\n",
    "svm2 = SVC(random_state = 1)\n",
    "svmNS= svm2.fit(xNSTrain,yNSTrain)\n",
    "\n",
    "svm3 = SVC(random_state = 1)\n",
    "svmFT= svm3.fit(xFTTrain,yFTTrain)\n",
    "\n",
    "svm4 = SVC(random_state = 1)\n",
    "svmPJ= svm4.fit(xPJTrain,yPJTrain)"
   ]
  },
  {
   "cell_type": "code",
   "execution_count": 11,
   "id": "aad4eb57",
   "metadata": {},
   "outputs": [],
   "source": [
    "Y_pred_IE = svmIE.predict(xIETest)\n",
    "Y_pred_NS = svmNS.predict(xNSTest)\n",
    "Y_pred_FT = svmFT.predict(xFTTest)\n",
    "Y_pred_PJ = svmPJ.predict(xPJTest)"
   ]
  },
  {
   "cell_type": "code",
   "execution_count": 12,
   "id": "d31f40c4",
   "metadata": {
    "scrolled": true
   },
   "outputs": [
    {
     "name": "stdout",
     "output_type": "stream",
     "text": [
      "Results : Testing\n",
      "------------------\n",
      "I/E :\n",
      "0.8176361957525392\n",
      "N/S :\n",
      "0.8859649122807017\n",
      "F/T :\n",
      "0.8217913204062789\n",
      "P/J :\n",
      "0.765004616805171\n"
     ]
    }
   ],
   "source": [
    "print(\"Results : Testing\")\n",
    "print(\"------------------\")\n",
    "\n",
    "print(\"I/E :\")\n",
    "f1_svmIE=f1_score(yIETest, Y_pred_IE, average='micro')\n",
    "print(f1_svmIE)\n",
    "print(\"N/S :\")\n",
    "f1_svmNS=f1_score(yNSTest, Y_pred_NS, average='micro')\n",
    "print(f1_svmNS)\n",
    "print(\"F/T :\")\n",
    "f1_svmFT=f1_score(yFTTest, Y_pred_FT, average='micro')\n",
    "print(f1_svmFT)\n",
    "print(\"P/J :\")\n",
    "f1_svmPJ=f1_score(yPJTest, Y_pred_PJ, average='micro')\n",
    "print(f1_svmPJ)"
   ]
  },
  {
   "cell_type": "code",
   "execution_count": 13,
   "id": "9011dca5",
   "metadata": {},
   "outputs": [],
   "source": [
    "pkl.dump(svm1, open('SVM_IE_model.pkl', 'wb'))\n",
    "pkl.dump(svm2, open('SVM_NS_model.pkl', 'wb'))\n",
    "pkl.dump(svm3, open('SVM_FT_model.pkl', 'wb'))\n",
    "pkl.dump(svm4, open('SVM_PJ_model.pkl', 'wb'))"
   ]
  },
  {
   "cell_type": "code",
   "execution_count": 39,
   "id": "a3553d60",
   "metadata": {},
   "outputs": [],
   "source": [
    "#Random Forest\n",
    "\n",
    "rf1 = RandomForestClassifier(n_estimators=100, random_state = 1)\n",
    "rfIE= rf1.fit(xIETrain,yIETrain)\n",
    "\n",
    "rf2 = RandomForestClassifier(n_estimators=100, random_state = 1)\n",
    "rfNS= rf2.fit(xNSTrain,yNSTrain)\n",
    "\n",
    "rf3 = RandomForestClassifier(n_estimators=100, random_state = 1)\n",
    "rfFT= rf3.fit(xFTTrain,yFTTrain)\n",
    "\n",
    "rf4 = RandomForestClassifier(n_estimators=100, random_state = 1)\n",
    "rfPJ= rf4.fit(xPJTrain,yPJTrain)"
   ]
  },
  {
   "cell_type": "code",
   "execution_count": 40,
   "id": "ab836001",
   "metadata": {},
   "outputs": [],
   "source": [
    "Y_pred_IE = rfIE.predict(xIETest)\n",
    "Y_pred_NS = rfNS.predict(xNSTest)\n",
    "Y_pred_FT = rfFT.predict(xFTTest)\n",
    "Y_pred_PJ = rfPJ.predict(xPJTest)"
   ]
  },
  {
   "cell_type": "code",
   "execution_count": 41,
   "id": "77c7e2cb",
   "metadata": {},
   "outputs": [
    {
     "name": "stdout",
     "output_type": "stream",
     "text": [
      "Results : Testing\n",
      "------------------\n",
      "I/E :\n",
      "0.7853185595567869\n",
      "N/S :\n",
      "0.8656509695290857\n",
      "F/T :\n",
      "0.7959372114496767\n",
      "P/J :\n",
      "0.7363804247460757\n"
     ]
    }
   ],
   "source": [
    "print(\"Results : Testing\")\n",
    "print(\"------------------\")\n",
    "\n",
    "print(\"I/E :\")\n",
    "f1_rfIE=f1_score(yIETest, Y_pred_IE, average='micro')\n",
    "print(f1_rfIE)\n",
    "print(\"N/S :\")\n",
    "f1_rfNS=f1_score(yNSTest, Y_pred_NS, average='micro')\n",
    "print(f1_rfNS)\n",
    "print(\"F/T :\")\n",
    "f1_rfFT=f1_score(yFTTest, Y_pred_FT, average='micro')\n",
    "print(f1_rfFT)\n",
    "print(\"P/J :\")\n",
    "f1_rfPJ=f1_score(yPJTest, Y_pred_PJ, average='micro')\n",
    "print(f1_rfPJ)"
   ]
  },
  {
   "cell_type": "code",
   "execution_count": 42,
   "id": "b6188cb8",
   "metadata": {},
   "outputs": [],
   "source": [
    "#KNN Classifier for TF-IDF\n",
    "\n",
    "knn1 = KNeighborsClassifier(n_neighbors = 250)  # n_neighbors means k\n",
    "knnIE = knn1.fit(xIETrain,yIETrain)\n",
    "\n",
    "knn2 = KNeighborsClassifier(n_neighbors = 250)  # n_neighbors means k\n",
    "knnNS = knn2.fit(xNSTrain,yNSTrain)\n",
    "\n",
    "knn3 = KNeighborsClassifier(n_neighbors = 250)  # n_neighbors means k\n",
    "knnFT = knn3.fit(xFTTrain,yFTTrain)\n",
    "\n",
    "knn4 = KNeighborsClassifier(n_neighbors = 250)  # n_neighbors means k\n",
    "knnPJ = knn4.fit(xPJTrain,yPJTrain)"
   ]
  },
  {
   "cell_type": "code",
   "execution_count": 43,
   "id": "866a3f7e",
   "metadata": {},
   "outputs": [],
   "source": [
    "Y_pred_IE = knnIE.predict(xIETest)\n",
    "Y_pred_NS = knnNS.predict(xNSTest)\n",
    "Y_pred_FT = knnFT.predict(xFTTest)\n",
    "Y_pred_PJ = knnPJ.predict(xPJTest)"
   ]
  },
  {
   "cell_type": "code",
   "execution_count": 44,
   "id": "a9de5800",
   "metadata": {},
   "outputs": [
    {
     "name": "stdout",
     "output_type": "stream",
     "text": [
      "Results : Testing\n",
      "------------------\n",
      "I/E :\n",
      "0.7746999076638966\n",
      "N/S :\n",
      "0.8619575253924283\n",
      "F/T :\n",
      "0.6191135734072022\n",
      "P/J :\n",
      "0.6537396121883656\n"
     ]
    }
   ],
   "source": [
    "print(\"Results : Testing\")\n",
    "print(\"------------------\")\n",
    "\n",
    "print(\"I/E :\")\n",
    "f1_knnIE=f1_score(yIETest, Y_pred_IE, average='micro')\n",
    "print(f1_knnIE)\n",
    "print(\"N/S :\")\n",
    "f1_knnNS=f1_score(yNSTest, Y_pred_NS, average='micro')\n",
    "print(f1_knnNS)\n",
    "print(\"F/T :\")\n",
    "f1_knnFT=f1_score(yFTTest, Y_pred_FT, average='micro')\n",
    "print(f1_knnFT)\n",
    "print(\"P/J :\")\n",
    "f1_knnPJ=f1_score(yPJTest, Y_pred_PJ, average='micro')\n",
    "print(f1_knnPJ)"
   ]
  },
  {
   "cell_type": "code",
   "execution_count": 62,
   "id": "5b28f5e9",
   "metadata": {},
   "outputs": [
    {
     "data": {
      "image/png": "[encoded data removed]",
      "text/plain": [
       "<Figure size 1296x864 with 1 Axes>"
      ]
     },
     "metadata": {
      "needs_background": "light"
     },
     "output_type": "display_data"
    }
   ],
   "source": [
    "#Plot for comparision between models\n",
    "\n",
    "X = ['I/E','N/S', 'F/T', 'P/J']\n",
    "ySVM = [f1_svmIE,f1_svmNS,f1_svmFT,f1_svmPJ]\n",
    "yRF = [f1_rfIE,f1_rfNS,f1_rfFT,f1_rfPJ]\n",
    "yKNN = [f1_knnIE,f1_knnNS,f1_knnFT,f1_knnPJ]\n",
    "\n",
    "X_axis = np.arange(len(X))\n",
    "plt.figure(figsize=(18,12))   \n",
    "plt.bar(X_axis - 0.15, ySVM, 0.15, label = 'SVM',color = 'r',edgecolor = 'black')\n",
    "plt.bar(X_axis - 0.0, yRF, 0.15, label = 'Random Forest',color = 'g',edgecolor = 'black')\n",
    "plt.bar(X_axis + 0.15, yKNN, 0.15, label = 'knn',color = 'b',edgecolor = 'black')\n",
    "  \n",
    "plt.xticks(X_axis, X)\n",
    "plt.xlabel(\"Models\")\n",
    "plt.ylabel(\"F1 Score\")\n",
    "plt.title(\"Comparision of Models Along 4 Axis\")\n",
    "plt.legend()\n",
    "\n",
    "plt.show()"
   ]
  },
  {
   "cell_type": "code",
   "execution_count": null,
   "id": "b56bcdaf",
   "metadata": {},
   "outputs": [],
   "source": [
    "#SVM is out-performing all other models along all the MBTI axis\n",
    "#So SVM is considered as final model."
   ]
  },
  {
   "cell_type": "code",
   "execution_count": 5,
   "id": "e4fc670b",
   "metadata": {},
   "outputs": [],
   "source": [
    "#Personality Prediction of an example which is a known INFJ\n",
    "statement= \"I have been try to meet you but stuck in some work ||| I am really concern about him for his bad health ||| I will get some time from my busy schedule to plant trees around you so that you will be more benefited.||| He is so sweet in nature ||| I like to wear good apperals. I love to travel and i went to California once where I enjoyed a lot. I wanna do cooking in most of my free time\"\n",
    "statement2 = \"I fully believe in the power of being a protector, to give a voice to the voiceless. So in that spirit I present this film, and hope it it recieved in the spirit of compassion.  Om Mani Padme Hum ...|||Yes, you are quite right. But many times this help has to come from outside the relationship. A partner can be supportive, and helpful but I think getting the right help is critical.  Finding a good...|||If he doesn't feel worthy of being loved, nothing you say or do will make a difference.|||Bossy1,  I think Jawz is very much on to something here, and further I think this is indicative of much deeper issues that were around long before you two met. It very well might mean your friend...|||LookingGlass,  Thanks for making this point. Unfortunately this corrupted Christianity speaks with a very loud voice, so the Still Small Voice has been forgotten.  Very few Christians today have...|||This has been my curse as well and I gotta tell you, most people prefer to remain stuck in their own neuroses, with all the excuses that go along with that. Of course in spite of all the scars I've...|||I know this must be very painful Callie, but honestly I think you dodged a bullet here. I'm sure he's a good person but it sounds as if he has some emotional maturing to do.  Being involved with...|||You guys are singing my song :)  I've been doing some research on heuristics (mental shortcuts) and cognitive biases, that explain a lot of why people do what they do. For some it's the principle of...|||I empathize with the sentiment behind this, but I think truly that while religion contains much of what we need as a society, it can easily be manipulated and used as a control. This is the dualistic...|||I think sometimes we forget that our type is only one part of what makes us a person. Emotional and Social competencies, past hurts and issues, value memes, etc.. I saw an experiment in a crowded...|||I don't feel rare as much as I feel well done.|||Thank you UK, you sound like a reasonable and compassionate person. I think Neitzsche's quote: Beware if you fight monsters lest you become one in the process is appropriate here. Here in Colorado...|||It might surprise you to learn that cognitive brain science has discovered that we humans are actually hard-wired for empathy. Read Goleman's Social Intelligence and it will help you to understand...|||You must understand, Aegis is really not to blame. Yes he seems like an inhuman monster for trying to justify marginalizing another human being, but people like that really don't understand what they...|||You know these ideas of yours are so riddled with fallacy and linquistic manipulation it isn't worth my time to continue this conversation. Hopefully as the years pass by you can learn to think and...|||An elephant swallowed by a boa constrictor!  Love that book!  I cried a little at the end.|||A thoughtful philosophy to be sure, and I like the line from  The Little Prince in your signature block, I used to use it as well :)|||.  According to your logic on tolerance we should accept intolerance if we are to consider ourselves tolerant?      Homosexuality is not violent behavior, conflating the two is extremely...|||Okay guys, for the record, I think healthy debate can help us all to move forward beyond the simple heuristics and the accompanying cognitive bias that is prevalent in religion. Critical thinking...|||Looks like this has already been explained, and I'm sorry I didn't notice the post, didn't mean to ignore you.  The teleological argument definitely has a major flaw in that the conclusion drawn...|||Okay first, you have attributed someone else's quote to me. Second this is what you had a problem with:   This post is what you say is a logical fallacy by introducing the straw-man of the...|||No problem, just look into this light for a moment...|||Re-framing the argument. No one introduced the idea of being tolerant of everything.  Clever use of the slippery slope though.  Don't blame you for not touching gay marriage, there is no good...|||I would not go so far as to say faith and reason are inherently contradictory which is why I worded my post the way I did. You must understand I have spent most of my life studying religion and...|||No one is supposed to know about the Inner Council !  we can't have people aware that we can communicate telepathically with each other, for years we have disguised ourselves as regular folk and...|||So who gets to decide what is good for us?  And I wouldn't go around using words like logic where religion is concerned, there is little in religion that can stand up to critical inquiry.|||Old School INFJ theme song: Veteran of the Psychic Wars, Blue Oyster Cult|||Okay, but what with the world being bullshit, I'm gonna have to change my whole frame of reference. Up to this point I've been operating under the thought that the world is a vampire :p|||Define getting older :P  For most of my life it seems I tried to squeeze myself into the roles that I thought I needed to in order to get along. I think many people here know what it's like to...|||You have quite a full plate there pardner ;)  Pretty typical though, I'll bet there is more stuff going on inside you than you can reasonably articulate.  This is what I love about this...|||I like the cards that don't have anything written in them so you can be creative. After an argument with my wife I found one with a little dog on the front, and I wrote: if i ran away, and you...|||Love this thread! :)  Over the years I have practiced many religions and philosophies, I think being an INFJ means being an explorer to some extent. During each phase of my explorations I practiced...|||I think I hate that crap because it is meaningless and empty and usually used to make people feel good about themselves.  The truth is most people are self-centered and don't understand love and...|||I understand. It bothers me a lot sometimes because I can walk around the store feeling angry and judgmental and that just adds up to sapped energy and a feeling that I don't like myself very much...|||The great sage Linus Van Pelt once said:  I love mankind, it's people I can't stand  I have always found myself on the other end of that. Individually I love people, but in a group they can be...|||Funny how you can see that coming a long ways off. Sometimes I try to talk myself out of it, like oh man you don't know that for sure give her a chance but it most always comes back to the first...|||According to cognitive brain science, when you are truly in tune with another human being there is a synchrony in our brain waves.  With the discovery of Mirror Neurons we can see just how that...|||Looks like you have stumbled upon what Buddhists call the First Noble Truth :)|||Okay, I'm gonna say something that might sound lame, but here goes:  You are never going to find out who you are because what that really is keeps changing and growing, this is the nature of...|||Ever try to make friends with a stray cat? The same rules apply, don't chase us, we will run, just provide a safe and friendly harbor and watch how quickly we become affectionate.|||Well, if you really like someone's post you can thank them, un thank them just so you can thank them again!|||Oh and Chazz? That feeling comes and goes, I wouldn't put too much meaning on it. Ever since I can remember I never felt like I belonged anywhere. As a child I had the impression that my presence on...|||Okay, totally agree with your post... but I couldn't help getting a visual on an Intimidating Typist I keep seeing Roz from Monsters Inc.|||It takes a little time to tell the difference between an anxious perception and a clear intuition. That being said, even after all these years I do manage to screw it up royally at times. :P|||Great movies all!  I think the movie that still moves me the most is  Wings Of Desire  This film was done old school style even for the 80s, directed by Wim Wenders and featuring the talent of...|||I'm not sure if you experience this, or maybe because I'm middle aged that I see things this way. I have been a musician, artist, salesman, soldier, nurse (CNA), technician, Christian, Buddhist,...|||I first found out about mirror neurons from reading Daniel Goleman's Social Intelligence  though the credit for the research goes to an Italian research scientist whose name escapes me for the...|||Aint it fun to be us?  :P  I've been doing some reading on mirror neurons and how when we are genuinely engaged with another human being our brains are actually in sync.    Now to me that is...|||Has anyone compiled information about linking MB types and Soma types?|||I wonder if our expectations of ourselves are a little unrealistic at times. Sometimes I feel emotionally raw and wounded and need to withdraw. Oddly enough at times like that there is a little...'\""
   ]
  },
  {
   "cell_type": "code",
   "execution_count": 6,
   "id": "4ba06aa9",
   "metadata": {},
   "outputs": [],
   "source": [
    "def preprocessing(data):\n",
    "    #Data PreProcessing\n",
    "    #Removing URLs\n",
    "    data['posts'] = data['posts'].apply(lambda x: re.sub(r'https?:\\/\\/.*?[\\s+]', '', x.replace(\"|\",\" \") + \" \"))\n",
    "    #Removing End Tokens like '?', ',' '.'\n",
    "    data[\"posts\"] = data[\"posts\"].apply(lambda x: re.sub(r'\\.', ' ', x + \" \"))\n",
    "    data[\"posts\"] = data[\"posts\"].apply(lambda x: re.sub(r'\\?', ' ', x + \" \"))\n",
    "    data[\"posts\"] = data[\"posts\"].apply(lambda x: re.sub(r'!', ' ', x + \" \"))\n",
    "    #Remove words that contain digits\n",
    "    data['posts'] = data['posts'].apply(lambda x: re.sub(r'[^a-zA-Z\\s]','',x))\n",
    "    #Lower casing words\n",
    "    data['posts'] = data['posts'].apply(lambda x: x.lower())\n",
    "    #Removing multiple letters repeating words\n",
    "    data[\"posts\"] = data[\"posts\"].apply(lambda x: re.sub(r'([a-z])\\1{2,}[\\s|\\w]*','',x))\n",
    "    #Remove parenthesis\n",
    "    data[\"posts\"] = data[\"posts\"].apply(lambda x: re.sub('(\\[|\\()*\\d+(\\]|\\))*', ' ', x))\n",
    "    #Remove spaces more than 1\n",
    "    data[\"posts\"] = data[\"posts\"].apply(lambda x: re.sub(' +', ' ', x).lower())\n",
    "    # Lemmatization\n",
    "    data['posts'] = data['posts'].apply(lambda x: WordNetLemmatizer().lemmatize(x))\n",
    "    return data"
   ]
  },
  {
   "cell_type": "code",
   "execution_count": 7,
   "id": "c7578f32",
   "metadata": {},
   "outputs": [],
   "source": [
    "data = [['xxxx',statement2]]\n",
    "myStatement = pd.DataFrame(data,columns=['type','posts'])\n",
    "my_posts = preprocessing(myStatement)"
   ]
  },
  {
   "cell_type": "code",
   "execution_count": 8,
   "id": "9812774e",
   "metadata": {},
   "outputs": [
    {
     "data": {
      "text/html": [
       "<div>\n",
       "<style scoped>\n",
       "    .dataframe tbody tr th:only-of-type {\n",
       "        vertical-align: middle;\n",
       "    }\n",
       "\n",
       "    .dataframe tbody tr th {\n",
       "        vertical-align: top;\n",
       "    }\n",
       "\n",
       "    .dataframe thead th {\n",
       "        text-align: right;\n",
       "    }\n",
       "</style>\n",
       "<table border=\"1\" class=\"dataframe\">\n",
       "  <thead>\n",
       "    <tr style=\"text-align: right;\">\n",
       "      <th></th>\n",
       "      <th>type</th>\n",
       "      <th>posts</th>\n",
       "    </tr>\n",
       "  </thead>\n",
       "  <tbody>\n",
       "    <tr>\n",
       "      <th>0</th>\n",
       "      <td>xxxx</td>\n",
       "      <td>i fully believe in the power of being a protec...</td>\n",
       "    </tr>\n",
       "  </tbody>\n",
       "</table>\n",
       "</div>"
      ],
      "text/plain": [
       "   type                                              posts\n",
       "0  xxxx  i fully believe in the power of being a protec..."
      ]
     },
     "execution_count": 8,
     "metadata": {},
     "output_type": "execute_result"
    }
   ],
   "source": [
    "my_posts"
   ]
  },
  {
   "cell_type": "code",
   "execution_count": 9,
   "id": "ed726733",
   "metadata": {},
   "outputs": [],
   "source": [
    "SVM_IE = pkl.load(open('SVM_IE_model.pkl','rb'))\n",
    "SVM_NS = pkl.load(open('SVM_NS_model.pkl','rb'))\n",
    "SVM_FT = pkl.load(open('SVM_FT_model.pkl','rb'))\n",
    "SVM_PJ = pkl.load(open('SVM_PJ_model.pkl','rb'))"
   ]
  },
  {
   "cell_type": "code",
   "execution_count": 10,
   "id": "6d9891fc",
   "metadata": {},
   "outputs": [],
   "source": [
    "cv = pkl.load(open('count_vectorizer.pkl','rb'))\n",
    "xCV = cv.transform(my_posts['posts'])\n",
    "tfidf = pkl.load(open('tfidfTransformer.pkl','rb'))\n",
    "X_tfidf =  tfidf.transform(xCV).toarray()\n",
    "\n",
    "Y_pred_IE = SVM_IE.predict(X_tfidf)\n",
    "Y_pred_NS = SVM_NS.predict(X_tfidf)\n",
    "Y_pred_FT = SVM_FT.predict(X_tfidf)\n",
    "Y_pred_PJ = SVM_PJ.predict(X_tfidf)"
   ]
  },
  {
   "cell_type": "code",
   "execution_count": 11,
   "id": "bf5fd8e1",
   "metadata": {},
   "outputs": [
    {
     "data": {
      "text/plain": [
       "array(['I'], dtype=object)"
      ]
     },
     "execution_count": 11,
     "metadata": {},
     "output_type": "execute_result"
    }
   ],
   "source": [
    "Y_pred_IE"
   ]
  },
  {
   "cell_type": "code",
   "execution_count": 12,
   "id": "6697b7a6",
   "metadata": {},
   "outputs": [
    {
     "data": {
      "text/plain": [
       "array(['N'], dtype=object)"
      ]
     },
     "execution_count": 12,
     "metadata": {},
     "output_type": "execute_result"
    }
   ],
   "source": [
    "Y_pred_NS"
   ]
  },
  {
   "cell_type": "code",
   "execution_count": 13,
   "id": "f94220e6",
   "metadata": {},
   "outputs": [
    {
     "data": {
      "text/plain": [
       "array(['F'], dtype=object)"
      ]
     },
     "execution_count": 13,
     "metadata": {},
     "output_type": "execute_result"
    }
   ],
   "source": [
    "Y_pred_FT"
   ]
  },
  {
   "cell_type": "code",
   "execution_count": 14,
   "id": "3bc11c2e",
   "metadata": {},
   "outputs": [
    {
     "data": {
      "text/plain": [
       "array(['J'], dtype=object)"
      ]
     },
     "execution_count": 14,
     "metadata": {},
     "output_type": "execute_result"
    }
   ],
   "source": [
    "Y_pred_PJ"
   ]
  },
  {
   "cell_type": "code",
   "execution_count": 15,
   "id": "33bf016a",
   "metadata": {},
   "outputs": [
    {
     "data": {
      "text/plain": [
       "'INFJ'"
      ]
     },
     "execution_count": 15,
     "metadata": {},
     "output_type": "execute_result"
    }
   ],
   "source": [
    "np.array_str(Y_pred_IE).replace(\"['\", \"\").replace(\"']\", \"\")+np.array_str(Y_pred_NS).replace(\"['\", \"\").replace(\"']\", \"\")+np.array_str(Y_pred_FT).replace(\"['\", \"\").replace(\"']\", \"\")+np.array_str(Y_pred_PJ).replace(\"['\", \"\").replace(\"']\", \"\")"
   ]
  },
  {
   "cell_type": "code",
   "execution_count": null,
   "id": "4a17b883",
   "metadata": {},
   "outputs": [],
   "source": []
  },
  {
   "cell_type": "code",
   "execution_count": null,
   "id": "f3d386ab",
   "metadata": {},
   "outputs": [],
   "source": []
  }
 ],
 "metadata": {
  "kernelspec": {
   "display_name": "Python 3",
   "language": "python",
   "name": "python3"
  },
  "language_info": {
   "codemirror_mode": {
    "name": "ipython",
    "version": 3
   },
   "file_extension": ".py",
   "mimetype": "text/x-python",
   "name": "python",
   "nbconvert_exporter": "python",
   "pygments_lexer": "ipython3",
   "version": "3.8.8"
  },
  "widgets": {
   "application/vnd.jupyter.widget-state+json": {
    "state": {},
    "version_major": 2,
    "version_minor": 0
   }
  }
 },
 "nbformat": 4,
 "nbformat_minor": 5
}
